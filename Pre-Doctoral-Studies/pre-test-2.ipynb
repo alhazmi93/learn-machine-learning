{
 "cells": [
  {
   "cell_type": "markdown",
   "id": "c0c7f2d9-c188-4c4d-9142-de5ab527389a",
   "metadata": {},
   "source": [
    "### Importing several necessary libraries"
   ]
  },
  {
   "cell_type": "code",
   "execution_count": 1,
   "id": "b4acddb7-c4de-4d51-b4a8-66bed4a50b96",
   "metadata": {},
   "outputs": [],
   "source": [
    "# import mathematical and statistical libraries\n",
    "import pandas as pd\n",
    "import numpy as np\n",
    "import scipy as sp\n",
    "\n",
    "# import necessary plotting libraries\n",
    "import matplotlib.pyplot as plt\n",
    "import seaborn as sns\n",
    "\n",
    "# import necessary data pre-processing\n",
    "import sklearn\n",
    "from sklearn import model_selection\n",
    "from sklearn import metrics\n",
    "from sklearn import preprocessing"
   ]
  },
  {
   "cell_type": "markdown",
   "id": "0c9bf864-0b31-405a-9fe0-b6a40fe30b22",
   "metadata": {},
   "source": [
    "### Read the dataset"
   ]
  },
  {
   "cell_type": "code",
   "execution_count": 2,
   "id": "fe095fb0-4f72-491b-8c31-eddcad502581",
   "metadata": {},
   "outputs": [],
   "source": [
    "data = pd.read_csv(\"C:/Users/qalha/(2) PhD Program/Dataset/heart.csv\")\n",
    "df = data.copy()"
   ]
  },
  {
   "cell_type": "markdown",
   "id": "eab61f8e-9ae2-4238-b81b-d598f7e701a1",
   "metadata": {},
   "source": [
    "#### Reading the data"
   ]
  },
  {
   "cell_type": "code",
   "execution_count": 3,
   "id": "1b54a7c2-fdc5-4ada-a8f8-8f993e8f3cd5",
   "metadata": {},
   "outputs": [
    {
     "data": {
      "text/html": [
       "<div>\n",
       "<style scoped>\n",
       "    .dataframe tbody tr th:only-of-type {\n",
       "        vertical-align: middle;\n",
       "    }\n",
       "\n",
       "    .dataframe tbody tr th {\n",
       "        vertical-align: top;\n",
       "    }\n",
       "\n",
       "    .dataframe thead th {\n",
       "        text-align: right;\n",
       "    }\n",
       "</style>\n",
       "<table border=\"1\" class=\"dataframe\">\n",
       "  <thead>\n",
       "    <tr style=\"text-align: right;\">\n",
       "      <th></th>\n",
       "      <th>Age</th>\n",
       "      <th>Sex</th>\n",
       "      <th>ChestPainType</th>\n",
       "      <th>RestingBP</th>\n",
       "      <th>Cholesterol</th>\n",
       "      <th>FastingBS</th>\n",
       "      <th>RestingECG</th>\n",
       "      <th>MaxHR</th>\n",
       "      <th>ExerciseAngina</th>\n",
       "      <th>Oldpeak</th>\n",
       "      <th>ST_Slope</th>\n",
       "      <th>HeartDisease</th>\n",
       "    </tr>\n",
       "  </thead>\n",
       "  <tbody>\n",
       "    <tr>\n",
       "      <th>0</th>\n",
       "      <td>40</td>\n",
       "      <td>M</td>\n",
       "      <td>ATA</td>\n",
       "      <td>140</td>\n",
       "      <td>289</td>\n",
       "      <td>0</td>\n",
       "      <td>Normal</td>\n",
       "      <td>172</td>\n",
       "      <td>N</td>\n",
       "      <td>0.0</td>\n",
       "      <td>Up</td>\n",
       "      <td>0</td>\n",
       "    </tr>\n",
       "    <tr>\n",
       "      <th>1</th>\n",
       "      <td>49</td>\n",
       "      <td>F</td>\n",
       "      <td>NAP</td>\n",
       "      <td>160</td>\n",
       "      <td>180</td>\n",
       "      <td>0</td>\n",
       "      <td>Normal</td>\n",
       "      <td>156</td>\n",
       "      <td>N</td>\n",
       "      <td>1.0</td>\n",
       "      <td>Flat</td>\n",
       "      <td>1</td>\n",
       "    </tr>\n",
       "    <tr>\n",
       "      <th>2</th>\n",
       "      <td>37</td>\n",
       "      <td>M</td>\n",
       "      <td>ATA</td>\n",
       "      <td>130</td>\n",
       "      <td>283</td>\n",
       "      <td>0</td>\n",
       "      <td>ST</td>\n",
       "      <td>98</td>\n",
       "      <td>N</td>\n",
       "      <td>0.0</td>\n",
       "      <td>Up</td>\n",
       "      <td>0</td>\n",
       "    </tr>\n",
       "    <tr>\n",
       "      <th>3</th>\n",
       "      <td>48</td>\n",
       "      <td>F</td>\n",
       "      <td>ASY</td>\n",
       "      <td>138</td>\n",
       "      <td>214</td>\n",
       "      <td>0</td>\n",
       "      <td>Normal</td>\n",
       "      <td>108</td>\n",
       "      <td>Y</td>\n",
       "      <td>1.5</td>\n",
       "      <td>Flat</td>\n",
       "      <td>1</td>\n",
       "    </tr>\n",
       "    <tr>\n",
       "      <th>4</th>\n",
       "      <td>54</td>\n",
       "      <td>M</td>\n",
       "      <td>NAP</td>\n",
       "      <td>150</td>\n",
       "      <td>195</td>\n",
       "      <td>0</td>\n",
       "      <td>Normal</td>\n",
       "      <td>122</td>\n",
       "      <td>N</td>\n",
       "      <td>0.0</td>\n",
       "      <td>Up</td>\n",
       "      <td>0</td>\n",
       "    </tr>\n",
       "  </tbody>\n",
       "</table>\n",
       "</div>"
      ],
      "text/plain": [
       "   Age Sex ChestPainType  RestingBP  Cholesterol  FastingBS RestingECG  MaxHR  \\\n",
       "0   40   M           ATA        140          289          0     Normal    172   \n",
       "1   49   F           NAP        160          180          0     Normal    156   \n",
       "2   37   M           ATA        130          283          0         ST     98   \n",
       "3   48   F           ASY        138          214          0     Normal    108   \n",
       "4   54   M           NAP        150          195          0     Normal    122   \n",
       "\n",
       "  ExerciseAngina  Oldpeak ST_Slope  HeartDisease  \n",
       "0              N      0.0       Up             0  \n",
       "1              N      1.0     Flat             1  \n",
       "2              N      0.0       Up             0  \n",
       "3              Y      1.5     Flat             1  \n",
       "4              N      0.0       Up             0  "
      ]
     },
     "execution_count": 3,
     "metadata": {},
     "output_type": "execute_result"
    }
   ],
   "source": [
    "df.head()"
   ]
  },
  {
   "cell_type": "code",
   "execution_count": 4,
   "id": "8a390a83-b445-40f5-b8fe-013af2be14af",
   "metadata": {},
   "outputs": [
    {
     "data": {
      "text/plain": [
       "Index(['Age', 'Sex', 'ChestPainType', 'RestingBP', 'Cholesterol', 'FastingBS',\n",
       "       'RestingECG', 'MaxHR', 'ExerciseAngina', 'Oldpeak', 'ST_Slope',\n",
       "       'HeartDisease'],\n",
       "      dtype='object')"
      ]
     },
     "execution_count": 4,
     "metadata": {},
     "output_type": "execute_result"
    }
   ],
   "source": [
    "df.columns"
   ]
  },
  {
   "cell_type": "code",
   "execution_count": 5,
   "id": "af1402fb-520f-4995-881c-0cfd58f72b68",
   "metadata": {},
   "outputs": [
    {
     "data": {
      "text/plain": [
       "(918, 12)"
      ]
     },
     "execution_count": 5,
     "metadata": {},
     "output_type": "execute_result"
    }
   ],
   "source": [
    "df.shape"
   ]
  },
  {
   "cell_type": "code",
   "execution_count": 6,
   "id": "12d4bc24-c9cd-48e2-a2ee-d1b654f0ce8c",
   "metadata": {},
   "outputs": [
    {
     "name": "stdout",
     "output_type": "stream",
     "text": [
      "<class 'pandas.core.frame.DataFrame'>\n",
      "RangeIndex: 918 entries, 0 to 917\n",
      "Data columns (total 12 columns):\n",
      " #   Column          Non-Null Count  Dtype  \n",
      "---  ------          --------------  -----  \n",
      " 0   Age             918 non-null    int64  \n",
      " 1   Sex             918 non-null    object \n",
      " 2   ChestPainType   918 non-null    object \n",
      " 3   RestingBP       918 non-null    int64  \n",
      " 4   Cholesterol     918 non-null    int64  \n",
      " 5   FastingBS       918 non-null    int64  \n",
      " 6   RestingECG      918 non-null    object \n",
      " 7   MaxHR           918 non-null    int64  \n",
      " 8   ExerciseAngina  918 non-null    object \n",
      " 9   Oldpeak         918 non-null    float64\n",
      " 10  ST_Slope        918 non-null    object \n",
      " 11  HeartDisease    918 non-null    int64  \n",
      "dtypes: float64(1), int64(6), object(5)\n",
      "memory usage: 86.2+ KB\n"
     ]
    }
   ],
   "source": [
    "df.info()"
   ]
  },
  {
   "cell_type": "code",
   "execution_count": 7,
   "id": "1e0e5561-f5ce-4dd6-884c-f9d3cf241bba",
   "metadata": {},
   "outputs": [
    {
     "data": {
      "text/html": [
       "<div>\n",
       "<style scoped>\n",
       "    .dataframe tbody tr th:only-of-type {\n",
       "        vertical-align: middle;\n",
       "    }\n",
       "\n",
       "    .dataframe tbody tr th {\n",
       "        vertical-align: top;\n",
       "    }\n",
       "\n",
       "    .dataframe thead th {\n",
       "        text-align: right;\n",
       "    }\n",
       "</style>\n",
       "<table border=\"1\" class=\"dataframe\">\n",
       "  <thead>\n",
       "    <tr style=\"text-align: right;\">\n",
       "      <th></th>\n",
       "      <th>count</th>\n",
       "      <th>mean</th>\n",
       "      <th>std</th>\n",
       "      <th>min</th>\n",
       "      <th>25%</th>\n",
       "      <th>50%</th>\n",
       "      <th>75%</th>\n",
       "      <th>max</th>\n",
       "    </tr>\n",
       "  </thead>\n",
       "  <tbody>\n",
       "    <tr>\n",
       "      <th>Age</th>\n",
       "      <td>918.0</td>\n",
       "      <td>53.510893</td>\n",
       "      <td>9.432617</td>\n",
       "      <td>28.0</td>\n",
       "      <td>47.00</td>\n",
       "      <td>54.0</td>\n",
       "      <td>60.0</td>\n",
       "      <td>77.0</td>\n",
       "    </tr>\n",
       "    <tr>\n",
       "      <th>RestingBP</th>\n",
       "      <td>918.0</td>\n",
       "      <td>132.396514</td>\n",
       "      <td>18.514154</td>\n",
       "      <td>0.0</td>\n",
       "      <td>120.00</td>\n",
       "      <td>130.0</td>\n",
       "      <td>140.0</td>\n",
       "      <td>200.0</td>\n",
       "    </tr>\n",
       "    <tr>\n",
       "      <th>Cholesterol</th>\n",
       "      <td>918.0</td>\n",
       "      <td>198.799564</td>\n",
       "      <td>109.384145</td>\n",
       "      <td>0.0</td>\n",
       "      <td>173.25</td>\n",
       "      <td>223.0</td>\n",
       "      <td>267.0</td>\n",
       "      <td>603.0</td>\n",
       "    </tr>\n",
       "    <tr>\n",
       "      <th>FastingBS</th>\n",
       "      <td>918.0</td>\n",
       "      <td>0.233115</td>\n",
       "      <td>0.423046</td>\n",
       "      <td>0.0</td>\n",
       "      <td>0.00</td>\n",
       "      <td>0.0</td>\n",
       "      <td>0.0</td>\n",
       "      <td>1.0</td>\n",
       "    </tr>\n",
       "    <tr>\n",
       "      <th>MaxHR</th>\n",
       "      <td>918.0</td>\n",
       "      <td>136.809368</td>\n",
       "      <td>25.460334</td>\n",
       "      <td>60.0</td>\n",
       "      <td>120.00</td>\n",
       "      <td>138.0</td>\n",
       "      <td>156.0</td>\n",
       "      <td>202.0</td>\n",
       "    </tr>\n",
       "    <tr>\n",
       "      <th>Oldpeak</th>\n",
       "      <td>918.0</td>\n",
       "      <td>0.887364</td>\n",
       "      <td>1.066570</td>\n",
       "      <td>-2.6</td>\n",
       "      <td>0.00</td>\n",
       "      <td>0.6</td>\n",
       "      <td>1.5</td>\n",
       "      <td>6.2</td>\n",
       "    </tr>\n",
       "    <tr>\n",
       "      <th>HeartDisease</th>\n",
       "      <td>918.0</td>\n",
       "      <td>0.553377</td>\n",
       "      <td>0.497414</td>\n",
       "      <td>0.0</td>\n",
       "      <td>0.00</td>\n",
       "      <td>1.0</td>\n",
       "      <td>1.0</td>\n",
       "      <td>1.0</td>\n",
       "    </tr>\n",
       "  </tbody>\n",
       "</table>\n",
       "</div>"
      ],
      "text/plain": [
       "              count        mean         std   min     25%    50%    75%    max\n",
       "Age           918.0   53.510893    9.432617  28.0   47.00   54.0   60.0   77.0\n",
       "RestingBP     918.0  132.396514   18.514154   0.0  120.00  130.0  140.0  200.0\n",
       "Cholesterol   918.0  198.799564  109.384145   0.0  173.25  223.0  267.0  603.0\n",
       "FastingBS     918.0    0.233115    0.423046   0.0    0.00    0.0    0.0    1.0\n",
       "MaxHR         918.0  136.809368   25.460334  60.0  120.00  138.0  156.0  202.0\n",
       "Oldpeak       918.0    0.887364    1.066570  -2.6    0.00    0.6    1.5    6.2\n",
       "HeartDisease  918.0    0.553377    0.497414   0.0    0.00    1.0    1.0    1.0"
      ]
     },
     "execution_count": 7,
     "metadata": {},
     "output_type": "execute_result"
    }
   ],
   "source": [
    "df.describe().T"
   ]
  },
  {
   "cell_type": "code",
   "execution_count": 8,
   "id": "324dadc1-fc5b-4ad8-975a-7d3866d5ca7e",
   "metadata": {},
   "outputs": [
    {
     "data": {
      "text/html": [
       "<div>\n",
       "<style scoped>\n",
       "    .dataframe tbody tr th:only-of-type {\n",
       "        vertical-align: middle;\n",
       "    }\n",
       "\n",
       "    .dataframe tbody tr th {\n",
       "        vertical-align: top;\n",
       "    }\n",
       "\n",
       "    .dataframe thead th {\n",
       "        text-align: right;\n",
       "    }\n",
       "</style>\n",
       "<table border=\"1\" class=\"dataframe\">\n",
       "  <thead>\n",
       "    <tr style=\"text-align: right;\">\n",
       "      <th></th>\n",
       "      <th>count</th>\n",
       "      <th>unique</th>\n",
       "      <th>top</th>\n",
       "      <th>freq</th>\n",
       "    </tr>\n",
       "  </thead>\n",
       "  <tbody>\n",
       "    <tr>\n",
       "      <th>Sex</th>\n",
       "      <td>918</td>\n",
       "      <td>2</td>\n",
       "      <td>M</td>\n",
       "      <td>725</td>\n",
       "    </tr>\n",
       "    <tr>\n",
       "      <th>ChestPainType</th>\n",
       "      <td>918</td>\n",
       "      <td>4</td>\n",
       "      <td>ASY</td>\n",
       "      <td>496</td>\n",
       "    </tr>\n",
       "    <tr>\n",
       "      <th>RestingECG</th>\n",
       "      <td>918</td>\n",
       "      <td>3</td>\n",
       "      <td>Normal</td>\n",
       "      <td>552</td>\n",
       "    </tr>\n",
       "    <tr>\n",
       "      <th>ExerciseAngina</th>\n",
       "      <td>918</td>\n",
       "      <td>2</td>\n",
       "      <td>N</td>\n",
       "      <td>547</td>\n",
       "    </tr>\n",
       "    <tr>\n",
       "      <th>ST_Slope</th>\n",
       "      <td>918</td>\n",
       "      <td>3</td>\n",
       "      <td>Flat</td>\n",
       "      <td>460</td>\n",
       "    </tr>\n",
       "  </tbody>\n",
       "</table>\n",
       "</div>"
      ],
      "text/plain": [
       "               count unique     top freq\n",
       "Sex              918      2       M  725\n",
       "ChestPainType    918      4     ASY  496\n",
       "RestingECG       918      3  Normal  552\n",
       "ExerciseAngina   918      2       N  547\n",
       "ST_Slope         918      3    Flat  460"
      ]
     },
     "execution_count": 8,
     "metadata": {},
     "output_type": "execute_result"
    }
   ],
   "source": [
    "df.describe(include=object).T"
   ]
  },
  {
   "cell_type": "code",
   "execution_count": 9,
   "id": "76b3cc8f-1b46-4574-bc52-bde45b6ba2f6",
   "metadata": {},
   "outputs": [
    {
     "data": {
      "text/plain": [
       "False    918\n",
       "dtype: int64"
      ]
     },
     "execution_count": 9,
     "metadata": {},
     "output_type": "execute_result"
    }
   ],
   "source": [
    "df.duplicated().value_counts()"
   ]
  },
  {
   "cell_type": "code",
   "execution_count": 10,
   "id": "a1923a52-4049-4865-b96d-d069bf7c2605",
   "metadata": {},
   "outputs": [
    {
     "data": {
      "text/plain": [
       "(array([0.5, 1.5, 2.5, 3.5, 4.5, 5.5, 6.5]),\n",
       " [Text(0.5, 0, 'Age'),\n",
       "  Text(1.5, 0, 'RestingBP'),\n",
       "  Text(2.5, 0, 'Cholesterol'),\n",
       "  Text(3.5, 0, 'FastingBS'),\n",
       "  Text(4.5, 0, 'MaxHR'),\n",
       "  Text(5.5, 0, 'Oldpeak'),\n",
       "  Text(6.5, 0, 'HeartDisease')])"
      ]
     },
     "execution_count": 10,
     "metadata": {},
     "output_type": "execute_result"
    },
    {
     "data": {
      "image/png": "[encoded data removed]",
      "text/plain": [
       "<Figure size 720x576 with 2 Axes>"
      ]
     },
     "metadata": {
      "needs_background": "light"
     },
     "output_type": "display_data"
    }
   ],
   "source": [
    "plt.figure(figsize=(10,8))\n",
    "sns.heatmap(df.corr(), annot=True)\n",
    "plt.xticks(rotation=45)"
   ]
  },
  {
   "cell_type": "markdown",
   "id": "0c5f86f9-6cad-409d-99f7-62577e74a7dc",
   "metadata": {},
   "source": [
    "### Train and test data"
   ]
  },
  {
   "cell_type": "code",
   "execution_count": 14,
   "id": "2ad62e95-c7ee-4d9b-a1fd-9b2b39f80af0",
   "metadata": {},
   "outputs": [],
   "source": [
    "df = pd.get_dummies(df, drop_first=True)"
   ]
  },
  {
   "cell_type": "code",
   "execution_count": 15,
   "id": "87dd87aa-5b72-4699-a5a9-433f1c5b3ab0",
   "metadata": {},
   "outputs": [
    {
     "data": {
      "text/plain": [
       "(918, 16)"
      ]
     },
     "execution_count": 15,
     "metadata": {},
     "output_type": "execute_result"
    }
   ],
   "source": [
    "df.shape"
   ]
  },
  {
   "cell_type": "code",
   "execution_count": 16,
   "id": "c5e3bf28-22f1-4c3a-9f47-8ce157cba0b0",
   "metadata": {},
   "outputs": [
    {
     "data": {
      "text/html": [
       "<div>\n",
       "<style scoped>\n",
       "    .dataframe tbody tr th:only-of-type {\n",
       "        vertical-align: middle;\n",
       "    }\n",
       "\n",
       "    .dataframe tbody tr th {\n",
       "        vertical-align: top;\n",
       "    }\n",
       "\n",
       "    .dataframe thead th {\n",
       "        text-align: right;\n",
       "    }\n",
       "</style>\n",
       "<table border=\"1\" class=\"dataframe\">\n",
       "  <thead>\n",
       "    <tr style=\"text-align: right;\">\n",
       "      <th></th>\n",
       "      <th>Age</th>\n",
       "      <th>RestingBP</th>\n",
       "      <th>Cholesterol</th>\n",
       "      <th>FastingBS</th>\n",
       "      <th>MaxHR</th>\n",
       "      <th>Oldpeak</th>\n",
       "      <th>HeartDisease</th>\n",
       "      <th>Sex_M</th>\n",
       "      <th>ChestPainType_ATA</th>\n",
       "      <th>ChestPainType_NAP</th>\n",
       "      <th>ChestPainType_TA</th>\n",
       "      <th>RestingECG_Normal</th>\n",
       "      <th>RestingECG_ST</th>\n",
       "      <th>ExerciseAngina_Y</th>\n",
       "      <th>ST_Slope_Flat</th>\n",
       "      <th>ST_Slope_Up</th>\n",
       "    </tr>\n",
       "  </thead>\n",
       "  <tbody>\n",
       "    <tr>\n",
       "      <th>0</th>\n",
       "      <td>40</td>\n",
       "      <td>140</td>\n",
       "      <td>289</td>\n",
       "      <td>0</td>\n",
       "      <td>172</td>\n",
       "      <td>0.0</td>\n",
       "      <td>0</td>\n",
       "      <td>1</td>\n",
       "      <td>1</td>\n",
       "      <td>0</td>\n",
       "      <td>0</td>\n",
       "      <td>1</td>\n",
       "      <td>0</td>\n",
       "      <td>0</td>\n",
       "      <td>0</td>\n",
       "      <td>1</td>\n",
       "    </tr>\n",
       "    <tr>\n",
       "      <th>1</th>\n",
       "      <td>49</td>\n",
       "      <td>160</td>\n",
       "      <td>180</td>\n",
       "      <td>0</td>\n",
       "      <td>156</td>\n",
       "      <td>1.0</td>\n",
       "      <td>1</td>\n",
       "      <td>0</td>\n",
       "      <td>0</td>\n",
       "      <td>1</td>\n",
       "      <td>0</td>\n",
       "      <td>1</td>\n",
       "      <td>0</td>\n",
       "      <td>0</td>\n",
       "      <td>1</td>\n",
       "      <td>0</td>\n",
       "    </tr>\n",
       "    <tr>\n",
       "      <th>2</th>\n",
       "      <td>37</td>\n",
       "      <td>130</td>\n",
       "      <td>283</td>\n",
       "      <td>0</td>\n",
       "      <td>98</td>\n",
       "      <td>0.0</td>\n",
       "      <td>0</td>\n",
       "      <td>1</td>\n",
       "      <td>1</td>\n",
       "      <td>0</td>\n",
       "      <td>0</td>\n",
       "      <td>0</td>\n",
       "      <td>1</td>\n",
       "      <td>0</td>\n",
       "      <td>0</td>\n",
       "      <td>1</td>\n",
       "    </tr>\n",
       "    <tr>\n",
       "      <th>3</th>\n",
       "      <td>48</td>\n",
       "      <td>138</td>\n",
       "      <td>214</td>\n",
       "      <td>0</td>\n",
       "      <td>108</td>\n",
       "      <td>1.5</td>\n",
       "      <td>1</td>\n",
       "      <td>0</td>\n",
       "      <td>0</td>\n",
       "      <td>0</td>\n",
       "      <td>0</td>\n",
       "      <td>1</td>\n",
       "      <td>0</td>\n",
       "      <td>1</td>\n",
       "      <td>1</td>\n",
       "      <td>0</td>\n",
       "    </tr>\n",
       "    <tr>\n",
       "      <th>4</th>\n",
       "      <td>54</td>\n",
       "      <td>150</td>\n",
       "      <td>195</td>\n",
       "      <td>0</td>\n",
       "      <td>122</td>\n",
       "      <td>0.0</td>\n",
       "      <td>0</td>\n",
       "      <td>1</td>\n",
       "      <td>0</td>\n",
       "      <td>1</td>\n",
       "      <td>0</td>\n",
       "      <td>1</td>\n",
       "      <td>0</td>\n",
       "      <td>0</td>\n",
       "      <td>0</td>\n",
       "      <td>1</td>\n",
       "    </tr>\n",
       "  </tbody>\n",
       "</table>\n",
       "</div>"
      ],
      "text/plain": [
       "   Age  RestingBP  Cholesterol  FastingBS  MaxHR  Oldpeak  HeartDisease  \\\n",
       "0   40        140          289          0    172      0.0             0   \n",
       "1   49        160          180          0    156      1.0             1   \n",
       "2   37        130          283          0     98      0.0             0   \n",
       "3   48        138          214          0    108      1.5             1   \n",
       "4   54        150          195          0    122      0.0             0   \n",
       "\n",
       "   Sex_M  ChestPainType_ATA  ChestPainType_NAP  ChestPainType_TA  \\\n",
       "0      1                  1                  0                 0   \n",
       "1      0                  0                  1                 0   \n",
       "2      1                  1                  0                 0   \n",
       "3      0                  0                  0                 0   \n",
       "4      1                  0                  1                 0   \n",
       "\n",
       "   RestingECG_Normal  RestingECG_ST  ExerciseAngina_Y  ST_Slope_Flat  \\\n",
       "0                  1              0                 0              0   \n",
       "1                  1              0                 0              1   \n",
       "2                  0              1                 0              0   \n",
       "3                  1              0                 1              1   \n",
       "4                  1              0                 0              0   \n",
       "\n",
       "   ST_Slope_Up  \n",
       "0            1  \n",
       "1            0  \n",
       "2            1  \n",
       "3            0  \n",
       "4            1  "
      ]
     },
     "execution_count": 16,
     "metadata": {},
     "output_type": "execute_result"
    }
   ],
   "source": [
    "df.head()"
   ]
  },
  {
   "cell_type": "code",
   "execution_count": 17,
   "id": "2364cc35-b4c6-4d9a-9b12-276a8abedc31",
   "metadata": {},
   "outputs": [],
   "source": [
    "## For this study, only blood pressure, cholesterol, and maximum heart rate are used as a data\n",
    "X = df.drop(['HeartDisease'], axis=1)\n",
    "y = df['HeartDisease']"
   ]
  },
  {
   "cell_type": "code",
   "execution_count": 32,
   "id": "9b28ba1f-afda-4e1c-b0b3-8cedd8e0e16b",
   "metadata": {},
   "outputs": [],
   "source": [
    "x_train, x_test, y_train, y_test = model_selection.train_test_split(X, y, test_size=0.2, stratify=y, random_state=101)"
   ]
  },
  {
   "cell_type": "markdown",
   "id": "c8344760-7e4a-421a-aa79-0b5fc882830e",
   "metadata": {},
   "source": [
    "### Creating a model using Machine Learning Algorithms"
   ]
  },
  {
   "cell_type": "markdown",
   "id": "ba1ca94d-5da4-4ad4-a2e5-f8291341a480",
   "metadata": {},
   "source": [
    "#### Decision Tree Algorithm"
   ]
  },
  {
   "cell_type": "code",
   "execution_count": 33,
   "id": "c28f439b-3b6d-43e4-9dd0-8b31c38691f0",
   "metadata": {},
   "outputs": [
    {
     "name": "stdout",
     "output_type": "stream",
     "text": [
      "The accuracy of the Decision Tree is: 0.75\n",
      "Metrics:\n",
      "               precision    recall  f1-score   support\n",
      "\n",
      "           0       0.73      0.70      0.71        82\n",
      "           1       0.76      0.79      0.78       102\n",
      "\n",
      "    accuracy                           0.75       184\n",
      "   macro avg       0.75      0.74      0.75       184\n",
      "weighted avg       0.75      0.75      0.75       184\n",
      "\n"
     ]
    }
   ],
   "source": [
    "from sklearn.tree import DecisionTreeClassifier\n",
    "model = DecisionTreeClassifier(class_weight=\"balanced\", random_state=42)\n",
    "model.fit(x_train, y_train)\n",
    "prediction = model.predict(x_test)\n",
    "print('The accuracy of the Decision Tree is: %.2f' %metrics.accuracy_score(prediction, y_test))\n",
    "print(\"Metrics:\\n\", metrics.classification_report(y_true = y_test, y_pred = prediction))"
   ]
  },
  {
   "cell_type": "code",
   "execution_count": 34,
   "id": "6aa0d11e-bc05-4ea0-9d4b-b31de7039f8c",
   "metadata": {},
   "outputs": [
    {
     "data": {
      "text/html": [
       "<div>\n",
       "<style scoped>\n",
       "    .dataframe tbody tr th:only-of-type {\n",
       "        vertical-align: middle;\n",
       "    }\n",
       "\n",
       "    .dataframe tbody tr th {\n",
       "        vertical-align: top;\n",
       "    }\n",
       "\n",
       "    .dataframe thead th {\n",
       "        text-align: right;\n",
       "    }\n",
       "</style>\n",
       "<table border=\"1\" class=\"dataframe\">\n",
       "  <thead>\n",
       "    <tr style=\"text-align: right;\">\n",
       "      <th></th>\n",
       "      <th>fit_time</th>\n",
       "      <th>score_time</th>\n",
       "      <th>test_accuracy</th>\n",
       "      <th>test_precision</th>\n",
       "      <th>test_recall</th>\n",
       "      <th>test_f1</th>\n",
       "    </tr>\n",
       "  </thead>\n",
       "  <tbody>\n",
       "    <tr>\n",
       "      <th>1</th>\n",
       "      <td>0.008082</td>\n",
       "      <td>0.000896</td>\n",
       "      <td>0.756757</td>\n",
       "      <td>0.767442</td>\n",
       "      <td>0.804878</td>\n",
       "      <td>0.785714</td>\n",
       "    </tr>\n",
       "    <tr>\n",
       "      <th>2</th>\n",
       "      <td>0.008087</td>\n",
       "      <td>0.007993</td>\n",
       "      <td>0.756757</td>\n",
       "      <td>0.755556</td>\n",
       "      <td>0.829268</td>\n",
       "      <td>0.790698</td>\n",
       "    </tr>\n",
       "    <tr>\n",
       "      <th>3</th>\n",
       "      <td>0.008038</td>\n",
       "      <td>0.000000</td>\n",
       "      <td>0.783784</td>\n",
       "      <td>0.804878</td>\n",
       "      <td>0.804878</td>\n",
       "      <td>0.804878</td>\n",
       "    </tr>\n",
       "    <tr>\n",
       "      <th>4</th>\n",
       "      <td>0.008072</td>\n",
       "      <td>0.000000</td>\n",
       "      <td>0.756757</td>\n",
       "      <td>0.780488</td>\n",
       "      <td>0.780488</td>\n",
       "      <td>0.780488</td>\n",
       "    </tr>\n",
       "    <tr>\n",
       "      <th>5</th>\n",
       "      <td>0.000000</td>\n",
       "      <td>0.007890</td>\n",
       "      <td>0.698630</td>\n",
       "      <td>0.743590</td>\n",
       "      <td>0.707317</td>\n",
       "      <td>0.725000</td>\n",
       "    </tr>\n",
       "    <tr>\n",
       "      <th>6</th>\n",
       "      <td>0.010762</td>\n",
       "      <td>0.000000</td>\n",
       "      <td>0.767123</td>\n",
       "      <td>0.785714</td>\n",
       "      <td>0.804878</td>\n",
       "      <td>0.795181</td>\n",
       "    </tr>\n",
       "    <tr>\n",
       "      <th>7</th>\n",
       "      <td>0.000000</td>\n",
       "      <td>0.008076</td>\n",
       "      <td>0.698630</td>\n",
       "      <td>0.725000</td>\n",
       "      <td>0.725000</td>\n",
       "      <td>0.725000</td>\n",
       "    </tr>\n",
       "    <tr>\n",
       "      <th>8</th>\n",
       "      <td>0.000000</td>\n",
       "      <td>0.000000</td>\n",
       "      <td>0.712329</td>\n",
       "      <td>0.731707</td>\n",
       "      <td>0.750000</td>\n",
       "      <td>0.740741</td>\n",
       "    </tr>\n",
       "    <tr>\n",
       "      <th>9</th>\n",
       "      <td>0.000000</td>\n",
       "      <td>0.000000</td>\n",
       "      <td>0.780822</td>\n",
       "      <td>0.785714</td>\n",
       "      <td>0.825000</td>\n",
       "      <td>0.804878</td>\n",
       "    </tr>\n",
       "    <tr>\n",
       "      <th>10</th>\n",
       "      <td>0.007994</td>\n",
       "      <td>0.000000</td>\n",
       "      <td>0.753425</td>\n",
       "      <td>0.823529</td>\n",
       "      <td>0.700000</td>\n",
       "      <td>0.756757</td>\n",
       "    </tr>\n",
       "  </tbody>\n",
       "</table>\n",
       "</div>"
      ],
      "text/plain": [
       "    fit_time  score_time  test_accuracy  test_precision  test_recall   test_f1\n",
       "1   0.008082    0.000896       0.756757        0.767442     0.804878  0.785714\n",
       "2   0.008087    0.007993       0.756757        0.755556     0.829268  0.790698\n",
       "3   0.008038    0.000000       0.783784        0.804878     0.804878  0.804878\n",
       "4   0.008072    0.000000       0.756757        0.780488     0.780488  0.780488\n",
       "5   0.000000    0.007890       0.698630        0.743590     0.707317  0.725000\n",
       "6   0.010762    0.000000       0.767123        0.785714     0.804878  0.795181\n",
       "7   0.000000    0.008076       0.698630        0.725000     0.725000  0.725000\n",
       "8   0.000000    0.000000       0.712329        0.731707     0.750000  0.740741\n",
       "9   0.000000    0.000000       0.780822        0.785714     0.825000  0.804878\n",
       "10  0.007994    0.000000       0.753425        0.823529     0.700000  0.756757"
      ]
     },
     "execution_count": 34,
     "metadata": {},
     "output_type": "execute_result"
    }
   ],
   "source": [
    "model_validation = DecisionTreeClassifier(max_depth=None, random_state=42)\n",
    "\n",
    "model_validation_scores = model_selection.cross_validate(model_validation, x_train, y_train, scoring = ['accuracy', 'precision', 'recall', 'f1'], cv=10)\n",
    "model_validation_scores = pd.DataFrame(model_validation_scores, index = range(1,11))\n",
    "model_validation_scores"
   ]
  },
  {
   "cell_type": "code",
   "execution_count": 35,
   "id": "97839aa5-5777-45ef-bb39-fcc47504f593",
   "metadata": {},
   "outputs": [
    {
     "data": {
      "text/plain": [
       "test_accuracy     0.746501\n",
       "test_precision    0.770362\n",
       "test_recall       0.773171\n",
       "test_f1           0.770933\n",
       "dtype: float64"
      ]
     },
     "execution_count": 35,
     "metadata": {},
     "output_type": "execute_result"
    }
   ],
   "source": [
    "model_validation_scores.mean()[2:]"
   ]
  },
  {
   "cell_type": "markdown",
   "id": "f61d1941-eeca-44b8-b60e-691f1e5aec8a",
   "metadata": {},
   "source": [
    "#### Random Forest Algorithm"
   ]
  },
  {
   "cell_type": "code",
   "execution_count": 36,
   "id": "1e4ed4f5-0b53-4115-9fd4-26ff6c65602d",
   "metadata": {},
   "outputs": [
    {
     "name": "stdout",
     "output_type": "stream",
     "text": [
      "The accuracy of the Random Forest is: 0.88\n",
      "Metrics:\n",
      "               precision    recall  f1-score   support\n",
      "\n",
      "           0       0.88      0.85      0.86        82\n",
      "           1       0.88      0.90      0.89       102\n",
      "\n",
      "    accuracy                           0.88       184\n",
      "   macro avg       0.88      0.88      0.88       184\n",
      "weighted avg       0.88      0.88      0.88       184\n",
      "\n"
     ]
    }
   ],
   "source": [
    "from sklearn.ensemble import RandomForestClassifier\n",
    "\n",
    "RF_model = RandomForestClassifier(class_weight='balanced', random_state=42)\n",
    "RF_model.fit(x_train, y_train)\n",
    "prediction = RF_model.predict(x_test)\n",
    "print('The accuracy of the Random Forest is: %.2f' %metrics.accuracy_score(prediction, y_test))\n",
    "print(\"Metrics:\\n\", metrics.classification_report(y_true = y_test, y_pred = prediction))"
   ]
  },
  {
   "cell_type": "code",
   "execution_count": 37,
   "id": "3a01b577-947a-4183-9c96-8e3bfa96f5d5",
   "metadata": {},
   "outputs": [
    {
     "data": {
      "text/html": [
       "<div>\n",
       "<style scoped>\n",
       "    .dataframe tbody tr th:only-of-type {\n",
       "        vertical-align: middle;\n",
       "    }\n",
       "\n",
       "    .dataframe tbody tr th {\n",
       "        vertical-align: top;\n",
       "    }\n",
       "\n",
       "    .dataframe thead th {\n",
       "        text-align: right;\n",
       "    }\n",
       "</style>\n",
       "<table border=\"1\" class=\"dataframe\">\n",
       "  <thead>\n",
       "    <tr style=\"text-align: right;\">\n",
       "      <th></th>\n",
       "      <th>fit_time</th>\n",
       "      <th>score_time</th>\n",
       "      <th>test_accuracy</th>\n",
       "      <th>test_precision</th>\n",
       "      <th>test_recall</th>\n",
       "      <th>test_f1</th>\n",
       "    </tr>\n",
       "  </thead>\n",
       "  <tbody>\n",
       "    <tr>\n",
       "      <th>1</th>\n",
       "      <td>0.116418</td>\n",
       "      <td>0.011389</td>\n",
       "      <td>0.864865</td>\n",
       "      <td>0.860465</td>\n",
       "      <td>0.902439</td>\n",
       "      <td>0.880952</td>\n",
       "    </tr>\n",
       "    <tr>\n",
       "      <th>2</th>\n",
       "      <td>0.103341</td>\n",
       "      <td>0.010074</td>\n",
       "      <td>0.878378</td>\n",
       "      <td>0.847826</td>\n",
       "      <td>0.951220</td>\n",
       "      <td>0.896552</td>\n",
       "    </tr>\n",
       "    <tr>\n",
       "      <th>3</th>\n",
       "      <td>0.092328</td>\n",
       "      <td>0.018329</td>\n",
       "      <td>0.864865</td>\n",
       "      <td>0.878049</td>\n",
       "      <td>0.878049</td>\n",
       "      <td>0.878049</td>\n",
       "    </tr>\n",
       "    <tr>\n",
       "      <th>4</th>\n",
       "      <td>0.097676</td>\n",
       "      <td>0.010425</td>\n",
       "      <td>0.851351</td>\n",
       "      <td>0.857143</td>\n",
       "      <td>0.878049</td>\n",
       "      <td>0.867470</td>\n",
       "    </tr>\n",
       "    <tr>\n",
       "      <th>5</th>\n",
       "      <td>0.108722</td>\n",
       "      <td>0.010288</td>\n",
       "      <td>0.849315</td>\n",
       "      <td>0.875000</td>\n",
       "      <td>0.853659</td>\n",
       "      <td>0.864198</td>\n",
       "    </tr>\n",
       "    <tr>\n",
       "      <th>6</th>\n",
       "      <td>0.102778</td>\n",
       "      <td>0.010337</td>\n",
       "      <td>0.808219</td>\n",
       "      <td>0.813953</td>\n",
       "      <td>0.853659</td>\n",
       "      <td>0.833333</td>\n",
       "    </tr>\n",
       "    <tr>\n",
       "      <th>7</th>\n",
       "      <td>0.104362</td>\n",
       "      <td>0.007915</td>\n",
       "      <td>0.904110</td>\n",
       "      <td>0.883721</td>\n",
       "      <td>0.950000</td>\n",
       "      <td>0.915663</td>\n",
       "    </tr>\n",
       "    <tr>\n",
       "      <th>8</th>\n",
       "      <td>0.100636</td>\n",
       "      <td>0.007846</td>\n",
       "      <td>0.849315</td>\n",
       "      <td>0.853659</td>\n",
       "      <td>0.875000</td>\n",
       "      <td>0.864198</td>\n",
       "    </tr>\n",
       "    <tr>\n",
       "      <th>9</th>\n",
       "      <td>0.101336</td>\n",
       "      <td>0.008266</td>\n",
       "      <td>0.890411</td>\n",
       "      <td>0.847826</td>\n",
       "      <td>0.975000</td>\n",
       "      <td>0.906977</td>\n",
       "    </tr>\n",
       "    <tr>\n",
       "      <th>10</th>\n",
       "      <td>0.095327</td>\n",
       "      <td>0.006898</td>\n",
       "      <td>0.890411</td>\n",
       "      <td>0.880952</td>\n",
       "      <td>0.925000</td>\n",
       "      <td>0.902439</td>\n",
       "    </tr>\n",
       "  </tbody>\n",
       "</table>\n",
       "</div>"
      ],
      "text/plain": [
       "    fit_time  score_time  test_accuracy  test_precision  test_recall   test_f1\n",
       "1   0.116418    0.011389       0.864865        0.860465     0.902439  0.880952\n",
       "2   0.103341    0.010074       0.878378        0.847826     0.951220  0.896552\n",
       "3   0.092328    0.018329       0.864865        0.878049     0.878049  0.878049\n",
       "4   0.097676    0.010425       0.851351        0.857143     0.878049  0.867470\n",
       "5   0.108722    0.010288       0.849315        0.875000     0.853659  0.864198\n",
       "6   0.102778    0.010337       0.808219        0.813953     0.853659  0.833333\n",
       "7   0.104362    0.007915       0.904110        0.883721     0.950000  0.915663\n",
       "8   0.100636    0.007846       0.849315        0.853659     0.875000  0.864198\n",
       "9   0.101336    0.008266       0.890411        0.847826     0.975000  0.906977\n",
       "10  0.095327    0.006898       0.890411        0.880952     0.925000  0.902439"
      ]
     },
     "execution_count": 37,
     "metadata": {},
     "output_type": "execute_result"
    }
   ],
   "source": [
    "model_validation = RandomForestClassifier(max_depth=None, random_state=42)\n",
    "\n",
    "model_validation_scores = model_selection.cross_validate(model_validation, x_train, y_train, scoring = ['accuracy', 'precision', 'recall', 'f1'], cv=10)\n",
    "model_validation_scores = pd.DataFrame(model_validation_scores, index = range(1,11))\n",
    "\n",
    "model_validation_scores"
   ]
  },
  {
   "cell_type": "code",
   "execution_count": 38,
   "id": "ece69ee4-8855-464a-baa4-b47a556ebd00",
   "metadata": {},
   "outputs": [
    {
     "data": {
      "text/plain": [
       "test_accuracy     0.865124\n",
       "test_precision    0.859859\n",
       "test_recall       0.904207\n",
       "test_f1           0.880983\n",
       "dtype: float64"
      ]
     },
     "execution_count": 38,
     "metadata": {},
     "output_type": "execute_result"
    }
   ],
   "source": [
    "model_validation_scores.mean()[2:]"
   ]
  },
  {
   "cell_type": "markdown",
   "id": "2f4b0001-6ecb-465f-84ae-6f480ac46ba7",
   "metadata": {},
   "source": [
    "### Implement scaling method to the x train and test data"
   ]
  },
  {
   "cell_type": "code",
   "execution_count": 39,
   "id": "cb6d7b29-0b9b-4687-9fb2-3ba7c14cebab",
   "metadata": {},
   "outputs": [],
   "source": [
    "scaler = preprocessing.MinMaxScaler()"
   ]
  },
  {
   "cell_type": "code",
   "execution_count": 40,
   "id": "ec6b32fa-ee06-4fda-a711-236587c04faa",
   "metadata": {},
   "outputs": [],
   "source": [
    "x_train_scaled = scaler.fit_transform(x_train)\n",
    "x_test_scaled = scaler.fit_transform(x_test)"
   ]
  },
  {
   "cell_type": "markdown",
   "id": "4f052355-1f48-4b5a-8174-86c18e2f5d9b",
   "metadata": {},
   "source": [
    "#### Decision Tree with scaled training"
   ]
  },
  {
   "cell_type": "code",
   "execution_count": 41,
   "id": "96266933-5cad-4c82-b418-f0dfea4df2ef",
   "metadata": {},
   "outputs": [
    {
     "name": "stdout",
     "output_type": "stream",
     "text": [
      "The accuracy of the Decision Tree is: 0.67\n",
      "Metrics:\n",
      "               precision    recall  f1-score   support\n",
      "\n",
      "           0       0.64      0.61      0.62        82\n",
      "           1       0.70      0.73      0.71       102\n",
      "\n",
      "    accuracy                           0.67       184\n",
      "   macro avg       0.67      0.67      0.67       184\n",
      "weighted avg       0.67      0.67      0.67       184\n",
      "\n"
     ]
    }
   ],
   "source": [
    "model = DecisionTreeClassifier(class_weight=\"balanced\", random_state=42)\n",
    "model.fit(x_train_scaled, y_train)\n",
    "prediction = model.predict(x_test_scaled)\n",
    "print('The accuracy of the Decision Tree is: %.2f' %metrics.accuracy_score(prediction, y_test))\n",
    "print(\"Metrics:\\n\", metrics.classification_report(y_true = y_test, y_pred = prediction))"
   ]
  },
  {
   "cell_type": "markdown",
   "id": "a4f1f3b4-ea1e-47c4-b0da-f6a59a80c491",
   "metadata": {},
   "source": [
    "#### Random Forest with scaled training"
   ]
  },
  {
   "cell_type": "code",
   "execution_count": 42,
   "id": "d8cb2db8-759f-4b2b-bcbe-52cf2d2b0caa",
   "metadata": {},
   "outputs": [
    {
     "name": "stdout",
     "output_type": "stream",
     "text": [
      "The accuracy of the Random Forest is: 0.82\n",
      "Metrics:\n",
      "               precision    recall  f1-score   support\n",
      "\n",
      "           0       0.88      0.68      0.77        82\n",
      "           1       0.78      0.92      0.85       102\n",
      "\n",
      "    accuracy                           0.82       184\n",
      "   macro avg       0.83      0.80      0.81       184\n",
      "weighted avg       0.82      0.82      0.81       184\n",
      "\n"
     ]
    }
   ],
   "source": [
    "RF_model = RandomForestClassifier(class_weight=\"balanced\", random_state=42)\n",
    "RF_model.fit(x_train_scaled, y_train)\n",
    "prediction = RF_model.predict(x_test_scaled)\n",
    "print('The accuracy of the Random Forest is: %.2f' %metrics.accuracy_score(prediction, y_test))\n",
    "print(\"Metrics:\\n\", metrics.classification_report(y_true = y_test, y_pred = prediction))"
   ]
  },
  {
   "cell_type": "markdown",
   "id": "1ab1f476-09eb-4fcf-aacd-b0ed7e9b7117",
   "metadata": {},
   "source": [
    "### Visualization the Decision Tree and Random Forest tree"
   ]
  },
  {
   "cell_type": "markdown",
   "id": "5b6cf6ef-29f4-4ad8-a051-c5d7f3a9bdd7",
   "metadata": {},
   "source": [
    "#### Visualization using plot tree"
   ]
  },
  {
   "cell_type": "code",
   "execution_count": null,
   "id": "fe8f306c-8ccf-487b-89bc-ed80d8c1d389",
   "metadata": {},
   "outputs": [],
   "source": [
    "\"\"\"from sklearn.tree import plot_tree\n",
    "features = list(X.columns)\n",
    "targets = str(df.HeartDisease.unique())\n",
    "\n",
    "fig, axes = plt.subplots(nrows=1, ncols=1, figsize=(20,10), dpi=150)\n",
    "plot_tree(RF_model.estimators_[0],\n",
    "         feature_names = features,\n",
    "         class_names = targets,\n",
    "         filled = True)\"\"\""
   ]
  },
  {
   "cell_type": "code",
   "execution_count": null,
   "id": "03ab6248-84ca-438f-8af6-3bcb2124c1d5",
   "metadata": {},
   "outputs": [],
   "source": [
    "\"\"\"from sklearn.tree import plot_tree\n",
    "features = list(X.columns)\n",
    "targets = str(df.HeartDisease.unique())\n",
    "\n",
    "fig, axes = plt.subplots(nrows=1, ncols=1, figsize=(20,10), dpi=150)\n",
    "plot_tree(model,\n",
    "         feature_names = features,\n",
    "         class_names = targets,\n",
    "         filled = True)\"\"\""
   ]
  },
  {
   "cell_type": "markdown",
   "id": "884cf624-00c2-49fe-9327-d47cfa08c15f",
   "metadata": {},
   "source": [
    "#### Visualization using graphviz"
   ]
  },
  {
   "cell_type": "code",
   "execution_count": null,
   "id": "cf4bc19b-9e86-4d9b-949d-b1de5197d1e2",
   "metadata": {},
   "outputs": [],
   "source": [
    "\"\"\"from sklearn.tree import export_graphviz\n",
    "import pydot\n",
    "\n",
    "export_graphviz(model, out_file='tree_ds.dot', class_names=targets,\n",
    "              feature_names=features, impurity=False, filled=True)\n",
    "\n",
    "graphs = pydot.graph_from_dot_file(\"tree_ds.dot\")\n",
    "graph = graphs[0]\n",
    "graph.write_png(\"output_DS.png\")\"\"\""
   ]
  },
  {
   "cell_type": "code",
   "execution_count": null,
   "id": "6fd954a6-7c92-4ae2-a0ef-c46899862e89",
   "metadata": {},
   "outputs": [],
   "source": [
    "\"\"\"from sklearn.tree import export_graphviz\n",
    "import pydot\n",
    "\n",
    "export_graphviz(RF_model.estimators_[0], out_file='tree_rf.dot', class_names=targets,\n",
    "              feature_names=features, impurity=False, filled=True)\n",
    "\n",
    "graphs = pydot.graph_from_dot_file(\"tree_rf.dot\")\n",
    "graph = graphs[0]\n",
    "graph.write_png(\"output_RF.png\")\"\"\""
   ]
  },
  {
   "cell_type": "code",
   "execution_count": null,
   "id": "1caa0008-52a8-475e-a022-cdcab7a768f1",
   "metadata": {},
   "outputs": [],
   "source": []
  }
 ],
 "metadata": {
  "kernelspec": {
   "display_name": "Python 3",
   "language": "python",
   "name": "python3"
  },
  "language_info": {
   "codemirror_mode": {
    "name": "ipython",
    "version": 3
   },
   "file_extension": ".py",
   "mimetype": "text/x-python",
   "name": "python",
   "nbconvert_exporter": "python",
   "pygments_lexer": "ipython3",
   "version": "3.8.8"
  }
 },
 "nbformat": 4,
 "nbformat_minor": 5
}
