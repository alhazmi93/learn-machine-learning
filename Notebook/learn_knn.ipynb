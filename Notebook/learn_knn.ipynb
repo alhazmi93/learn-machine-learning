{
 "cells": [
  {
   "cell_type": "markdown",
   "id": "f1e4936a",
   "metadata": {},
   "source": [
    "## K-Nearest Neighbors"
   ]
  },
  {
   "cell_type": "code",
   "execution_count": 1,
   "id": "eb9ffef7",
   "metadata": {},
   "outputs": [],
   "source": [
    "import pandas as pd\n",
    "import numpy as np\n",
    "import operator\n",
    "import seaborn as sns\n",
    "import matplotlib.pyplot as plt"
   ]
  },
  {
   "cell_type": "code",
   "execution_count": 5,
   "id": "205dd22c",
   "metadata": {},
   "outputs": [
    {
     "data": {
      "image/png": "[encoded data removed]",
      "text/plain": [
       "<Figure size 408.625x360 with 1 Axes>"
      ]
     },
     "metadata": {
      "needs_background": "light"
     },
     "output_type": "display_data"
    }
   ],
   "source": [
    "data = pd.read_csv(r'C:\\Users\\qalha\\(1) Learning Python\\datasets\\knn-test.csv', sep=',')\n",
    "sns.lmplot('X', 'Y', data=data, hue='Class', palette='Set1', fit_reg=False, scatter_kws={\"s\":70})\n",
    "plt.show()"
   ]
  },
  {
   "cell_type": "markdown",
   "id": "b1c2deaf",
   "metadata": {},
   "source": [
    "#### Manually define the KNN class"
   ]
  },
  {
   "cell_type": "code",
   "execution_count": 6,
   "id": "4325ee1b",
   "metadata": {},
   "outputs": [],
   "source": [
    "def euclidean_distance(pt1, pt2, dimension):\n",
    "    distance = 0\n",
    "    for x in range(dimension):\n",
    "        distance += np.square(pt1[x] - pt2[x])\n",
    "    return np.sqrt(distance)"
   ]
  },
  {
   "cell_type": "code",
   "execution_count": 7,
   "id": "b314075a",
   "metadata": {},
   "outputs": [],
   "source": [
    "def knn(training_points, test_point, k):\n",
    "    distance = {}\n",
    "    dimension = test_point.shape[1]\n",
    "    for x in range(len(training_points)):\n",
    "        dist = euclidean_distance(test_point, training_points.iloc[x], dimension)\n",
    "        distance[x] = dist[0]\n",
    "    sorted_d = sorted(distance.items(), key=operator.itemgetter(1))\n",
    "    neighbors = []\n",
    "    \n",
    "    for x in range(k):\n",
    "        neighbors.append(sorted_d[x][0])\n",
    "    class_counter = {}\n",
    "    for x in range(len(neighbors)):\n",
    "        cls = training_points.iloc[neighbors[x]][-1]\n",
    "    if cls in class_counter:\n",
    "        class_counter[cls] += 1\n",
    "    else:\n",
    "        class_counter[cls] = 1\n",
    "    \n",
    "    sorted_counter = sorted(class_counter.items(), key=operator.itemgetter(1), reverse=True)\n",
    "    return(sorted_counter[0][0], neighbors)"
   ]
  },
  {
   "cell_type": "code",
   "execution_count": 8,
   "id": "3bbb0e82",
   "metadata": {},
   "outputs": [
    {
     "name": "stdout",
     "output_type": "stream",
     "text": [
      "Predicted class:  S1\n"
     ]
    }
   ],
   "source": [
    "test_set = [[3,5]]\n",
    "test = pd.DataFrame(test_set)\n",
    "cls,neighbors = knn(data, test, 5)\n",
    "print(\"Predicted class: \", cls)"
   ]
  },
  {
   "cell_type": "code",
   "execution_count": 9,
   "id": "1db06d1f",
   "metadata": {},
   "outputs": [
    {
     "name": "stdout",
     "output_type": "stream",
     "text": [
      "Predicted class:  S2\n"
     ]
    }
   ],
   "source": [
    "test_set = [[13,18]]\n",
    "test = pd.DataFrame(test_set)\n",
    "cls,neighbors = knn(data, test, 3)\n",
    "print(\"Predicted class: \", cls)"
   ]
  },
  {
   "cell_type": "markdown",
   "id": "1255aa23",
   "metadata": {},
   "source": [
    "#### Using KNN Classifier from l"
   ]
  },
  {
   "cell_type": "code",
   "execution_count": 14,
   "id": "8e85b8a1",
   "metadata": {},
   "outputs": [],
   "source": [
    "dataset = data.copy()\n",
    "from sklearn.model_selection import train_test_split\n",
    "X_train, X_test, y_train, y_test = train_test_split(dataset[['X', 'Y']], dataset['Class'], test_size = 0.20)"
   ]
  },
  {
   "cell_type": "code",
   "execution_count": 15,
   "id": "9310ba3b",
   "metadata": {},
   "outputs": [
    {
     "data": {
      "text/plain": [
       "KNeighborsClassifier()"
      ]
     },
     "execution_count": 15,
     "metadata": {},
     "output_type": "execute_result"
    }
   ],
   "source": [
    "from sklearn.neighbors import KNeighborsClassifier\n",
    "classifier = KNeighborsClassifier(n_neighbors = 5)\n",
    "classifier.fit(X_train, y_train)"
   ]
  },
  {
   "cell_type": "code",
   "execution_count": 17,
   "id": "afd4d0c7",
   "metadata": {},
   "outputs": [
    {
     "name": "stdout",
     "output_type": "stream",
     "text": [
      "Predicted class:  S1\n"
     ]
    }
   ],
   "source": [
    "print(\"Predicted class: \", classifier.predict([[3,5]])[0])"
   ]
  },
  {
   "cell_type": "code",
   "execution_count": 18,
   "id": "ebd316e9",
   "metadata": {},
   "outputs": [
    {
     "name": "stdout",
     "output_type": "stream",
     "text": [
      "Predicted class:  S2\n"
     ]
    }
   ],
   "source": [
    "classifier = KNeighborsClassifier(n_neighbors = 3)\n",
    "classifier.fit(X_train, y_train)\n",
    "print(\"Predicted class: \", classifier.predict([[13,18]])[0])"
   ]
  },
  {
   "cell_type": "code",
   "execution_count": null,
   "id": "ec66915c",
   "metadata": {},
   "outputs": [],
   "source": []
  }
 ],
 "metadata": {
  "kernelspec": {
   "display_name": "Python 3",
   "language": "python",
   "name": "python3"
  },
  "language_info": {
   "codemirror_mode": {
    "name": "ipython",
    "version": 3
   },
   "file_extension": ".py",
   "mimetype": "text/x-python",
   "name": "python",
   "nbconvert_exporter": "python",
   "pygments_lexer": "ipython3",
   "version": "3.8.8"
  }
 },
 "nbformat": 4,
 "nbformat_minor": 5
}
