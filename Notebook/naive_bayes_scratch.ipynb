{
 "cells": [
  {
   "cell_type": "code",
   "execution_count": 1,
   "id": "ea7856e6-f29b-4e31-8ed9-8807e7a45412",
   "metadata": {},
   "outputs": [],
   "source": [
    "import numpy as np\n",
    "import pandas as pd"
   ]
  },
  {
   "cell_type": "code",
   "execution_count": 2,
   "id": "eebfb680-2217-4016-80b9-acd76a11acaa",
   "metadata": {},
   "outputs": [
    {
     "name": "stdout",
     "output_type": "stream",
     "text": [
      "Weather:  ['Sunny', 'Sunny', 'Overcast', 'Rainy', 'Rainy', 'Rainy', 'Overcast', 'Sunny', 'Sunny', 'Rainy', 'Sunny', 'Overcast', 'Overcast', 'Rainy']\n",
      "Temperature:  ['Hot', 'Hot', 'Hot', 'Mild', 'Cool', 'Cool', 'Cool', 'Mild', 'Cool', 'Mild', 'Mild', 'Mild', 'Hot', 'Mild']\n",
      "Play?: ['No', 'No', 'Yes', 'Yes', 'Yes', 'No', 'Yes', 'No', 'Yes', 'Yes', 'Yes', 'Yes', 'Yes', 'No']\n"
     ]
    }
   ],
   "source": [
    "# Assigning features and label variables\n",
    "weather=['Sunny','Sunny','Overcast','Rainy','Rainy','Rainy','Overcast','Sunny','Sunny','Rainy','Sunny','Overcast','Overcast','Rainy']\n",
    "temp=['Hot','Hot','Hot','Mild','Cool','Cool','Cool','Mild','Cool','Mild','Mild','Mild','Hot','Mild']\n",
    "play=['No','No','Yes','Yes','Yes','No','Yes','No','Yes','Yes','Yes','Yes','Yes','No']\n",
    "\n",
    "print ('Weather: ', weather)\n",
    "print ('Temperature: ', temp)\n",
    "print ('Play?:', play)"
   ]
  },
  {
   "cell_type": "code",
   "execution_count": 3,
   "id": "67c6d104-3e49-4272-ae68-f291d13c930c",
   "metadata": {},
   "outputs": [
    {
     "data": {
      "text/html": [
       "<div>\n",
       "<style scoped>\n",
       "    .dataframe tbody tr th:only-of-type {\n",
       "        vertical-align: middle;\n",
       "    }\n",
       "\n",
       "    .dataframe tbody tr th {\n",
       "        vertical-align: top;\n",
       "    }\n",
       "\n",
       "    .dataframe thead th {\n",
       "        text-align: right;\n",
       "    }\n",
       "</style>\n",
       "<table border=\"1\" class=\"dataframe\">\n",
       "  <thead>\n",
       "    <tr style=\"text-align: right;\">\n",
       "      <th></th>\n",
       "      <th>weather</th>\n",
       "      <th>temp</th>\n",
       "    </tr>\n",
       "  </thead>\n",
       "  <tbody>\n",
       "    <tr>\n",
       "      <th>0</th>\n",
       "      <td>Sunny</td>\n",
       "      <td>Hot</td>\n",
       "    </tr>\n",
       "    <tr>\n",
       "      <th>1</th>\n",
       "      <td>Sunny</td>\n",
       "      <td>Hot</td>\n",
       "    </tr>\n",
       "    <tr>\n",
       "      <th>2</th>\n",
       "      <td>Overcast</td>\n",
       "      <td>Hot</td>\n",
       "    </tr>\n",
       "    <tr>\n",
       "      <th>3</th>\n",
       "      <td>Rainy</td>\n",
       "      <td>Mild</td>\n",
       "    </tr>\n",
       "    <tr>\n",
       "      <th>4</th>\n",
       "      <td>Rainy</td>\n",
       "      <td>Cool</td>\n",
       "    </tr>\n",
       "  </tbody>\n",
       "</table>\n",
       "</div>"
      ],
      "text/plain": [
       "    weather  temp\n",
       "0     Sunny   Hot\n",
       "1     Sunny   Hot\n",
       "2  Overcast   Hot\n",
       "3     Rainy  Mild\n",
       "4     Rainy  Cool"
      ]
     },
     "execution_count": 3,
     "metadata": {},
     "output_type": "execute_result"
    }
   ],
   "source": [
    "features = pd.DataFrame({'weather': weather, 'temp': temp}, columns=['weather', 'temp'])\n",
    "features.head()"
   ]
  },
  {
   "cell_type": "code",
   "execution_count": 4,
   "id": "7a05647c-b338-420d-89c5-ff6b7c66100a",
   "metadata": {},
   "outputs": [
    {
     "name": "stdout",
     "output_type": "stream",
     "text": [
      "Features: \n",
      "    weather  temp\n",
      "0        2     1\n",
      "1        2     1\n",
      "2        0     1\n",
      "3        1     2\n",
      "4        1     0\n",
      "Temp:  [0 0 1 1 1 0 1 0 1 1 1 1 1 0]\n"
     ]
    }
   ],
   "source": [
    "# Import LabelEncoder\n",
    "from sklearn import preprocessing\n",
    "#creating labelEncoder\n",
    "le = preprocessing.LabelEncoder()\n",
    "# Converting string labels into numbers.\n",
    "features.weather = le.fit_transform(features.weather)\n",
    "features.temp = le.fit_transform(features.temp)\n",
    "label=le.fit_transform(play)\n",
    "\n",
    "print ('Features: \\n', features.head())\n",
    "print ('Temp: ', label)"
   ]
  },
  {
   "cell_type": "code",
   "execution_count": 15,
   "id": "b44f0037-0b83-406a-8865-e99922b17282",
   "metadata": {},
   "outputs": [
    {
     "name": "stdout",
     "output_type": "stream",
     "text": [
      "14 0.6428571428571429\n"
     ]
    }
   ],
   "source": [
    "# Explanation of priors code\n",
    "\"\"\"n_samples, n_features = features.shape\n",
    "classes = np.unique(label)\n",
    "n_classes = len(classes)\n",
    "prior = np.zeros(n_classes, dtype=np.float64)\n",
    "idx,c = classes\n",
    "X_c = features[label==c]\n",
    "prior[idx] = X_c.shape[0]/float(n_samples)\n",
    "print(prior[idx])\"\"\""
   ]
  },
  {
   "cell_type": "code",
   "execution_count": 5,
   "id": "f217a0c3-9e8a-4736-9d53-6d801259cd6a",
   "metadata": {},
   "outputs": [],
   "source": [
    "class NaiveBayes:\n",
    "    \"\"\"\n",
    "    X = features\n",
    "    y = label\n",
    "    idx = index\n",
    "    c = class\n",
    "    \"\"\"\n",
    "    def fit(self, X, y):\n",
    "        n_samples, n_features = X.shape\n",
    "        self._classes = np.unique(y)\n",
    "        n_classes = len(self._classes)\n",
    "\n",
    "        # calculate mean, var, and prior for each class\n",
    "        self._mean = np.zeros((n_classes, n_features), dtype=np.float64) # to obtain mean value\n",
    "        self._var = np.zeros((n_classes, n_features), dtype=np.float64) # to obtain varians\n",
    "        self._priors = np.zeros(n_classes, dtype=np.float64) # to obtain the priors value of the label (y)\n",
    "\n",
    "        for idx, c in enumerate(self._classes):\n",
    "            X_c = X[y == c]\n",
    "            self._mean[idx, :] = X_c.mean(axis=0)\n",
    "            self._var[idx, :] = X_c.var(axis=0)\n",
    "            self._priors[idx] = X_c.shape[0] / float(n_samples)\n",
    "            \n",
    "    def _pdf(self, class_idx, x): # pdf = probability density function = Gaussian Naive Bayes is used in this program\n",
    "        mean = self._mean[class_idx]\n",
    "        var = self._var[class_idx]\n",
    "        numerator = np.exp(-((x - mean) ** 2) / (2 * var))\n",
    "        denominator = np.sqrt(2 * np.pi * var)\n",
    "        return numerator / denominator\n",
    "    \n",
    "    def predict(self, X):\n",
    "        y_pred = [self._predict(x) for x in X]\n",
    "        return np.array(y_pred)\n",
    "\n",
    "    def _predict(self, x):\n",
    "        posteriors = []\n",
    "\n",
    "        # calculate posterior probability for each class\n",
    "        for idx, c in enumerate(self._classes):\n",
    "            prior = np.log(self._priors[idx])\n",
    "            posterior = np.sum(np.log(self._pdf(idx, x)))\n",
    "            posterior = posterior + prior\n",
    "            posteriors.append(posterior)\n",
    "\n",
    "        # return class with the highest posterior\n",
    "        return self._classes[np.argmax(posteriors)]\n",
    "\n",
    "# Source: https://www.youtube.com/watch?v=TLInuAorxqE"
   ]
  },
  {
   "cell_type": "code",
   "execution_count": 6,
   "id": "6c504c20-b79c-4ab0-8590-12ee16f6a67c",
   "metadata": {},
   "outputs": [],
   "source": [
    "x = NaiveBayes()\n",
    "x.fit(features, label)"
   ]
  },
  {
   "cell_type": "code",
   "execution_count": 7,
   "id": "8c472006-d0ae-4c5b-a988-5cae886f3265",
   "metadata": {},
   "outputs": [
    {
     "data": {
      "text/plain": [
       "array([0, 1], dtype=int64)"
      ]
     },
     "execution_count": 7,
     "metadata": {},
     "output_type": "execute_result"
    }
   ],
   "source": [
    "x._classes"
   ]
  },
  {
   "cell_type": "code",
   "execution_count": 7,
   "id": "b139baf2-6390-4e9c-9cf1-87d93b5e9aba",
   "metadata": {},
   "outputs": [
    {
     "name": "stdout",
     "output_type": "stream",
     "text": [
      "Mean: \n",
      " [[1.6        1.2       ]\n",
      " [0.77777778 1.11111111]]\n",
      "\n",
      "Variance: \n",
      " [[0.3        0.7       ]\n",
      " [0.69444444 0.86111111]]\n",
      "\n",
      "Priors: \n",
      " [0.35714286 0.64285714]\n"
     ]
    }
   ],
   "source": [
    "print(\"Mean: \\n\", x._mean)\n",
    "print(\"\\nVariance: \\n\", x._var)\n",
    "print(\"\\nPriors: \\n\", x._priors)"
   ]
  },
  {
   "cell_type": "code",
   "execution_count": 8,
   "id": "a8e1781e-8517-4511-aabf-420637755f87",
   "metadata": {},
   "outputs": [
    {
     "name": "stdout",
     "output_type": "stream",
     "text": [
      "Predicted Value: 1\n"
     ]
    }
   ],
   "source": [
    "prediction = x._predict([[0,2]]) # 0:Overcast, 2:Mild\n",
    "print (\"Predicted Value:\", prediction) # 0:No play, 1:Play"
   ]
  },
  {
   "cell_type": "markdown",
   "id": "c33ab581-be9d-4b9d-ab9b-2bdbe97c79e2",
   "metadata": {},
   "source": [
    "#### Calculate the accuracy of the model"
   ]
  },
  {
   "cell_type": "code",
   "execution_count": 12,
   "id": "c16f60a4-aae1-45da-92d6-35b65582aa8e",
   "metadata": {},
   "outputs": [
    {
     "name": "stdout",
     "output_type": "stream",
     "text": [
      "Naive Bayes classification accuracy 96.5 %\n"
     ]
    }
   ],
   "source": [
    "from sklearn.model_selection import train_test_split\n",
    "from sklearn import datasets\n",
    "from sklearn.metrics import accuracy_score\n",
    "\n",
    "X, y = datasets.make_classification(n_samples=1000,\n",
    "                                   n_features=10, n_classes=2,\n",
    "                                   random_state=123)\n",
    "\n",
    "X_train, X_test, y_train, y_test = train_test_split(X, y,\n",
    "                                                   test_size=0.2, random_state=123)\n",
    "\n",
    "nb = NaiveBayes()\n",
    "nb.fit(X_train, y_train)\n",
    "predictions = nb.predict(X_test)\n",
    "\n",
    "print(\"Naive Bayes classification accuracy\", accuracy_score(predictions, y_test)*100, '%')"
   ]
  },
  {
   "cell_type": "code",
   "execution_count": null,
   "id": "fc8e9786-f214-4a29-9ed8-0cec59be1546",
   "metadata": {},
   "outputs": [],
   "source": []
  }
 ],
 "metadata": {
  "kernelspec": {
   "display_name": "Python 3",
   "language": "python",
   "name": "python3"
  },
  "language_info": {
   "codemirror_mode": {
    "name": "ipython",
    "version": 3
   },
   "file_extension": ".py",
   "mimetype": "text/x-python",
   "name": "python",
   "nbconvert_exporter": "python",
   "pygments_lexer": "ipython3",
   "version": "3.8.8"
  }
 },
 "nbformat": 4,
 "nbformat_minor": 5
}
